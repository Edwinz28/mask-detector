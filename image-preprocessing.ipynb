{
 "cells": [
  {
   "cell_type": "markdown",
   "metadata": {},
   "source": [
    "# Image Preprocessing"
   ]
  },
  {
   "cell_type": "markdown",
   "metadata": {},
   "source": [
    "Our dateset uses 1916 samples from MaskedFace-Net  for masked faces and 2000 samples from Flickr-Faces-HQ Dataset for unmasked faces.\n",
    "\n",
    "These images are all 1024x1024 which would take too long to train our CNN, so here we convert the images to 240x240.\n",
    "\n",
    "Additionally, the samples from Flickr-Faces-HQ Dataset are in png format so we convert them to jpg.\n",
    "\n",
    "MaskedFace-Net: https://github.com/cabani/MaskedFace-Net\n",
    "\n",
    "Flickr-Faces-HQ: https://github.com/NVlabs/ffhq-dataset"
   ]
  },
  {
   "cell_type": "code",
   "execution_count": 9,
   "metadata": {},
   "outputs": [],
   "source": [
    "import cv2\n",
    "import os"
   ]
  },
  {
   "cell_type": "code",
   "execution_count": 14,
   "metadata": {},
   "outputs": [],
   "source": [
    "output_size = (240, 240)\n",
    "\n",
    "basedir = 'data/with_mask'\n",
    "\n",
    "for image in os.listdir(basedir):\n",
    "    img = cv2.imread(basedir + '/' + image, cv2.IMREAD_UNCHANGED)\n",
    "    img = cv2.resize(img, output_size)\n",
    "    cv2.imwrite(basedir + '/' + image, img)"
   ]
  },
  {
   "cell_type": "code",
   "execution_count": 16,
   "metadata": {},
   "outputs": [],
   "source": [
    "basedir = 'data/without_mask'\n",
    "\n",
    "for image in os.listdir(basedir):\n",
    "    img = cv2.imread(basedir + '/' + image, cv2.IMREAD_UNCHANGED)\n",
    "    img = cv2.resize(img, output_size)\n",
    "    cv2.imwrite(basedir + '/' + image[:-3] + 'jpg', img, [int(cv2.IMWRITE_JPEG_QUALITY), 100])"
   ]
  }
 ],
 "metadata": {
  "kernelspec": {
   "display_name": "Python 3",
   "language": "python",
   "name": "python3"
  },
  "language_info": {
   "codemirror_mode": {
    "name": "ipython",
    "version": 3
   },
   "file_extension": ".py",
   "mimetype": "text/x-python",
   "name": "python",
   "nbconvert_exporter": "python",
   "pygments_lexer": "ipython3",
   "version": "3.8.3"
  }
 },
 "nbformat": 4,
 "nbformat_minor": 4
}
