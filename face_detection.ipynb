{
 "cells": [
  {
   "cell_type": "markdown",
   "metadata": {},
   "source": [
    "# Deploying Our Model\n",
    "\n",
    "This file deploys our trained model by feeding live images using OpenCV. We use a cascade classifier to detect the face(s) from a webcam and feed the face image into our CNN. Our CNN returns a result (mask, no mask, incorrectly worn mask) and we display the result back onto the screen."
   ]
  },
  {
   "cell_type": "code",
   "execution_count": 4,
   "metadata": {},
   "outputs": [],
   "source": [
    "import cv2\n",
    "import numpy as np\n",
    "import torch\n",
    "import torch.nn as nn\n",
    "import torch.nn.functional as F"
   ]
  },
  {
   "cell_type": "code",
   "execution_count": 5,
   "metadata": {},
   "outputs": [],
   "source": [
    "face_detector = cv2.CascadeClassifier('haarcascade_frontalface_default.xml')"
   ]
  },
  {
   "cell_type": "markdown",
   "metadata": {},
   "source": [
    "## Test On Static Image\n",
    "First test the cascade classifier on a static image as videos are a series of static images. Running the code shows that it works but not too well. However this is not a pressing issue as just because the classifier cannot detect the face at the particular moment in time, it may be able to detect it later."
   ]
  },
  {
   "cell_type": "code",
   "execution_count": 3,
   "metadata": {},
   "outputs": [],
   "source": [
    "input_img = cv2.imread('group_img_mask.jpg')\n",
    "gray = cv2.cvtColor(input_img, cv2.COLOR_BGR2GRAY)\n",
    "faces = face_detector.detectMultiScale(gray, scaleFactor=1.2, minNeighbors =5)\n",
    "\n",
    "for (x, y, w, h) in faces:\n",
    "    cv2.rectangle(input_img, (x, y), (x + w, y + h), (255, 0, 0), 2)\n",
    "    \n",
    "cv2.imshow('image', input_img)\n",
    "cv2.waitKey(0)\n",
    "cv2.destroyAllWindows()"
   ]
  },
  {
   "cell_type": "markdown",
   "metadata": {},
   "source": [
    "## Test On Live \n",
    "First we need to re-define our CNN models"
   ]
  },
  {
   "cell_type": "code",
   "execution_count": 3,
   "metadata": {},
   "outputs": [],
   "source": [
    "class Basic_CNN(nn.Module):\n",
    "    # 7 layers: 2 conv, 2 max pool, 2 linear, 1 output\n",
    "    def __init__(self):\n",
    "        self.name = \"Basic_CNN\"\n",
    "        super(Basic_CNN, self).__init__()\n",
    "        self.conv1 = nn.Conv2d(3, 5, 5) #in_channels=3, out_chanels=5, kernel_size=5\n",
    "        self.pool = nn.MaxPool2d(2, 2) #kernel_size=2, stride=2 \n",
    "        self.conv2 = nn.Conv2d(5, 10, 5) #in_channels=5, out_chanels=10, kernel_size=5\n",
    "        self.fc1 = nn.Linear(10*57*57, 32)\n",
    "        self.fc2 = nn.Linear(32, 3) \n",
    "    def weights_init(m):\n",
    "        if isinstance(m, nn.Conv2d):\n",
    "            nn.init.xavier_uniform(m.weight.data)\n",
    "            nn.init.xavier_uniform(m.bias.data)\n",
    "\n",
    "    def forward(self, img):\n",
    "        x = self.pool(F.relu(self.conv1(img))) #relu activation function\n",
    "        x = self.pool(F.relu(self.conv2(x))) #relu activation function\n",
    "        x = x.view(-1, 10*57*57)\n",
    "        x = F.relu(self.fc1(x)) #relu activation function\n",
    "        x = self.fc2(x)\n",
    "        return x"
   ]
  },
  {
   "cell_type": "code",
   "execution_count": 6,
   "metadata": {},
   "outputs": [],
   "source": [
    "# Create a neural net class\n",
    "class CNN_V2(nn.Module):\n",
    "    def __init__(self, num_classes=3):\n",
    "        super(CNN_V2, self).__init__()\n",
    "        self.name = \"CNN_V2\"\n",
    "        \n",
    "        # Our images are RGB, so we have input channels = 3. \n",
    "        #12 filters in the first convolutional layer\n",
    "        self.conv1 = nn.Conv2d(in_channels=3, out_channels=12, kernel_size=3, stride=1, padding=1)\n",
    "        \n",
    "        # A second convolutional layer takes 12 input channels, and generates 24 outputs\n",
    "        self.conv2 = nn.Conv2d(in_channels=12, out_channels=24, kernel_size=3, stride=1, padding=1)\n",
    "        \n",
    "        # We in the end apply max pooling with a kernel size of 2\n",
    "        self.pool = nn.MaxPool2d(kernel_size=2)\n",
    "        \n",
    "        # A drop layer deletes 20% of the features to help prevent overfitting\n",
    "        self.drop = nn.Dropout2d(p=0.2)\n",
    "        \n",
    "        # 240x240 image tensors will be pooled twice with a kernel size of 2. 240/2/2 is 60.\n",
    "        # Thus 60x60 tensors and 24 tensors\n",
    "        self.fc = nn.Linear(in_features=60 * 60 * 24, out_features=num_classes)\n",
    "\n",
    "    def forward(self, x):\n",
    "        # In the forward function, pass the data through the layers we defined in the init function\n",
    "        \n",
    "        # Use a ReLU activation function after layer 1 (convolution 1 and pool)\n",
    "        x = F.relu(self.pool(self.conv1(x))) \n",
    "        \n",
    "        # Use a ReLU activation function after layer 2\n",
    "        x = F.relu(self.pool(self.conv2(x)))  \n",
    "        \n",
    "        # Select some features to drop to prevent overfitting (only drop during training)\n",
    "        x = F.dropout(self.drop(x), training=self.training)\n",
    "        \n",
    "        # Flatten\n",
    "        x = x.view(-1, 60 * 60 * 24)\n",
    "        # Feed to fully-connected layer to predict class\n",
    "        x = self.fc(x)\n",
    "        # Return class probabilities via a log_softmax function \n",
    "        return torch.log_softmax(x, dim=1)"
   ]
  },
  {
   "cell_type": "markdown",
   "metadata": {},
   "source": [
    "## Load Deployable Model\n",
    "Here we load the deployable model from our models folder. This model will be receiving live data from OpenCV"
   ]
  },
  {
   "cell_type": "code",
   "execution_count": 8,
   "metadata": {},
   "outputs": [
    {
     "data": {
      "text/plain": [
       "<All keys matched successfully>"
      ]
     },
     "execution_count": 8,
     "metadata": {},
     "output_type": "execute_result"
    }
   ],
   "source": [
    "model = CNN_V2()\n",
    "model_path = \"models/model_{0}_bs{1}_lr{2}_epoch{3}\".format(\"CNN_V2\", 32, 0.0001, 18)\n",
    "state = torch.load(model_path)\n",
    "model.load_state_dict(state)"
   ]
  },
  {
   "cell_type": "code",
   "execution_count": 11,
   "metadata": {},
   "outputs": [],
   "source": [
    "labels_dict={0:'INCORRECT MASK',1:'MASK',2:'NO MASK'} \n",
    "color_dict={0:(0,255,255),1:(0,255,0),2:(0,0,255)} #BGR color codes"
   ]
  },
  {
   "cell_type": "code",
   "execution_count": 12,
   "metadata": {},
   "outputs": [],
   "source": [
    "source = cv2.VideoCapture(0) #Change parameter if you have different webcams, 0 for default\n",
    "\n",
    "while(True):    \n",
    "    \n",
    "    #Read from webcam\n",
    "    ret,img = source.read()\n",
    "    \n",
    "    #OpenCV convert to grayscale for haarcascade classifier\n",
    "    gray = cv2.cvtColor(img, cv2.COLOR_BGR2GRAY)\n",
    "    faces = face_detector.detectMultiScale(gray, scaleFactor=1.2, minNeighbors =5)\n",
    "    \n",
    "    #OpenCV convert to BGR to RGB for CNN\n",
    "    rgb = cv2.cvtColor(img, cv2.COLOR_BGR2RGB)\n",
    "    \n",
    "    #Iterate through all faces detected\n",
    "    for (x, y, w, h) in faces:\n",
    "        \n",
    "        #Boundaries for face\n",
    "        rgb_face = rgb[y:y+w, x:x+w]\n",
    "        \n",
    "        #Resize & Normalize\n",
    "        resized_face_img = cv2.resize(rgb_face, (240,240)) /255.0\n",
    "        \n",
    "        #Reshape tensor\n",
    "        model_input = torch.tensor(resized_face_img).unsqueeze(0).permute(0,3,1,2) \n",
    "        \n",
    "        #Model Prediction\n",
    "        output = model(model_input.float())\n",
    "        label = output.max(1, keepdim=True)[1].sum().item()\n",
    "        \n",
    "        #Draws boxes around faces\n",
    "        cv2.rectangle(img, (x, y), (x + w, y + h), color_dict[label], 2)\n",
    "        \n",
    "    \n",
    "    cv2.imshow('Detecting Masks... Press esc to exit',img)\n",
    "    key=cv2.waitKey(1)\n",
    "    \n",
    "    #Exit - Esc key\n",
    "    if(key==27):\n",
    "        break\n",
    "    \n",
    "cv2.waitKey(0)\n",
    "cv2.destroyAllWindows()"
   ]
  },
  {
   "cell_type": "code",
   "execution_count": null,
   "metadata": {},
   "outputs": [],
   "source": []
  }
 ],
 "metadata": {
  "kernelspec": {
   "display_name": "Python 3",
   "language": "python",
   "name": "python3"
  },
  "language_info": {
   "codemirror_mode": {
    "name": "ipython",
    "version": 3
   },
   "file_extension": ".py",
   "mimetype": "text/x-python",
   "name": "python",
   "nbconvert_exporter": "python",
   "pygments_lexer": "ipython3",
   "version": "3.8.3"
  }
 },
 "nbformat": 4,
 "nbformat_minor": 4
}
