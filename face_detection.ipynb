{
 "cells": [
  {
   "cell_type": "code",
   "execution_count": 95,
   "metadata": {},
   "outputs": [],
   "source": [
    "import cv2\n",
    "import numpy as np\n",
    "import torch\n",
    "import torch.nn as nn\n",
    "import torch.nn.functional as F"
   ]
  },
  {
   "cell_type": "code",
   "execution_count": 2,
   "metadata": {},
   "outputs": [],
   "source": [
    "face_detector = cv2.CascadeClassifier('haarcascade_frontalface_default.xml')"
   ]
  },
  {
   "cell_type": "markdown",
   "metadata": {},
   "source": [
    "## Test On Static Image\n",
    "Filler/Desc"
   ]
  },
  {
   "cell_type": "code",
   "execution_count": 12,
   "metadata": {},
   "outputs": [],
   "source": [
    "input_img = cv2.imread('group_img_mask.jpg')\n",
    "gray = cv2.cvtColor(input_img, cv2.COLOR_BGR2GRAY)\n",
    "faces = face_detector.detectMultiScale(gray, scaleFactor=1.2, minNeighbors =5)\n",
    "\n",
    "for (x, y, w, h) in faces:\n",
    "    cv2.rectangle(input_img, (x, y), (x + w, y + h), (255, 0, 0), 2)\n",
    "    \n",
    "cv2.imshow('image', input_img)\n",
    "cv2.waitKey(0)\n",
    "cv2.destroyAllWindows()"
   ]
  },
  {
   "cell_type": "markdown",
   "metadata": {},
   "source": [
    "## Test On Live \n",
    "Filler/Desc"
   ]
  },
  {
   "cell_type": "code",
   "execution_count": 3,
   "metadata": {},
   "outputs": [],
   "source": [
    "class Basic_CNN(nn.Module):\n",
    "    # 7 layers: 2 conv, 2 max pool, 2 linear, 1 output\n",
    "    def __init__(self):\n",
    "        self.name = \"Basic_CNN\"\n",
    "        super(Basic_CNN, self).__init__()\n",
    "        self.conv1 = nn.Conv2d(3, 5, 5) #in_channels=3, out_chanels=5, kernel_size=5\n",
    "        self.pool = nn.MaxPool2d(2, 2) #kernel_size=2, stride=2 \n",
    "        self.conv2 = nn.Conv2d(5, 10, 5) #in_channels=5, out_chanels=10, kernel_size=5\n",
    "        self.fc1 = nn.Linear(10*57*57, 32)\n",
    "        self.fc2 = nn.Linear(32, 2)\n",
    "    def weights_init(m):\n",
    "        if isinstance(m, nn.Conv2d):\n",
    "            nn.init.xavier_uniform(m.weight.data)\n",
    "            nn.init.xavier_uniform(m.bias.data)\n",
    "\n",
    "    def forward(self, img):\n",
    "        x = self.pool(F.relu(self.conv1(img))) #relu activation function\n",
    "        x = self.pool(F.relu(self.conv2(x))) #relu activation function\n",
    "        x = x.view(-1, 10*57*57)\n",
    "        x = F.relu(self.fc1(x)) #relu activation function\n",
    "        x = self.fc2(x)\n",
    "        return x"
   ]
  },
  {
   "cell_type": "code",
   "execution_count": 22,
   "metadata": {},
   "outputs": [
    {
     "data": {
      "text/plain": [
       "<All keys matched successfully>"
      ]
     },
     "execution_count": 22,
     "metadata": {},
     "output_type": "execute_result"
    }
   ],
   "source": [
    "model = Basic_CNN()\n",
    "model_path = \"models/model_{0}_bs{1}_lr{2}_epoch{3}\".format(\"Basic_CNN\", 32, 0.00014, 1)\n",
    "state = torch.load(model_path)\n",
    "model.load_state_dict(state)"
   ]
  },
  {
   "cell_type": "code",
   "execution_count": 5,
   "metadata": {},
   "outputs": [],
   "source": [
    "labels_dict={0:'MASK',1:'NO MASK'}\n",
    "color_dict={0:(0,255,0),1:(0,0,255)}"
   ]
  },
  {
   "cell_type": "code",
   "execution_count": 96,
   "metadata": {},
   "outputs": [],
   "source": [
    "source = cv2.VideoCapture(0) #Change parameter if you have different webcams, 0 for default\n",
    "\n",
    "while(True):    \n",
    "    \n",
    "    #Read from webcam\n",
    "    ret,img = source.read()\n",
    "    \n",
    "    #OpenCV convert to grayscale for haarcascade classifier\n",
    "    gray = cv2.cvtColor(img, cv2.COLOR_BGR2GRAY)\n",
    "    faces = face_detector.detectMultiScale(gray, scaleFactor=1.2, minNeighbors =5)\n",
    "    \n",
    "    #OpenCV convert to BGR to RGB for CNN\n",
    "    rgb = cv2.cvtColor(img, cv2.COLOR_BGR2RGB)\n",
    "    \n",
    "    #Iterate through all faces detected\n",
    "    for (x, y, w, h) in faces:\n",
    "        \n",
    "        #Boundaries for face\n",
    "        rgb_face = rgb[y:y+w, x:x+w]\n",
    "        \n",
    "        #Resize & Normalize\n",
    "        resized_face_img = cv2.resize(rgb_face, (240,240)) /255.0\n",
    "        \n",
    "        #Reshape tensor\n",
    "        model_input = torch.tensor(resized_face_img).unsqueeze(0).permute(0,3,1,2) \n",
    "        \n",
    "        #Model Prediction\n",
    "        output = model(model_input.float())\n",
    "        label = output.max(1, keepdim=True)[1].sum().item()\n",
    "        \n",
    "        #Draws boxes around faces\n",
    "        cv2.rectangle(img, (x, y), (x + w, y + h), color_dict[label], 2)\n",
    "        \n",
    "    \n",
    "    cv2.imshow('Detecting Masks... Press esc to exit',img)\n",
    "    key=cv2.waitKey(1)\n",
    "    \n",
    "    #Exit - Esc key\n",
    "    if(key==27):\n",
    "        break\n",
    "    \n",
    "cv2.waitKey(0)\n",
    "cv2.destroyAllWindows()"
   ]
  }
 ],
 "metadata": {
  "kernelspec": {
   "display_name": "Python 3",
   "language": "python",
   "name": "python3"
  },
  "language_info": {
   "codemirror_mode": {
    "name": "ipython",
    "version": 3
   },
   "file_extension": ".py",
   "mimetype": "text/x-python",
   "name": "python",
   "nbconvert_exporter": "python",
   "pygments_lexer": "ipython3",
   "version": "3.8.3"
  }
 },
 "nbformat": 4,
 "nbformat_minor": 4
}
