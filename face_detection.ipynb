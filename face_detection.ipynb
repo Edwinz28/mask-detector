{
 "cells": [
  {
   "cell_type": "code",
   "execution_count": 1,
   "metadata": {},
   "outputs": [],
   "source": [
    "import cv2\n",
    "import numpy as np"
   ]
  },
  {
   "cell_type": "code",
   "execution_count": 12,
   "metadata": {},
   "outputs": [],
   "source": [
    "face_detector = cv2.CascadeClassifier('haarcascade_frontalface_default.xml')\n",
    "\n",
    "input_img = cv2.imread('group_img_mask.jpg')\n",
    "gray = cv2.cvtColor(input_img, cv2.COLOR_BGR2GRAY)\n",
    "faces = face_detector.detectMultiScale(gray, scaleFactor=1.2, minNeighbors =5)\n",
    "\n",
    "for (x, y, w, h) in faces:\n",
    "    cv2.rectangle(input_img, (x, y), (x + w, y + h), (255, 0, 0), 2)\n",
    "    \n",
    "cv2.imshow('image', input_img)\n",
    "cv2.waitKey(0)\n",
    "cv2.destroyAllWindows()"
   ]
  },
  {
   "cell_type": "code",
   "execution_count": null,
   "metadata": {},
   "outputs": [],
   "source": []
  }
 ],
 "metadata": {
  "kernelspec": {
   "display_name": "Python 3",
   "language": "python",
   "name": "python3"
  },
  "language_info": {
   "codemirror_mode": {
    "name": "ipython",
    "version": 3
   },
   "file_extension": ".py",
   "mimetype": "text/x-python",
   "name": "python",
   "nbconvert_exporter": "python",
   "pygments_lexer": "ipython3",
   "version": "3.8.3"
  }
 },
 "nbformat": 4,
 "nbformat_minor": 4
}
