{
 "cells": [
  {
   "cell_type": "markdown",
   "metadata": {},
   "source": [
    "# Confusion Matrix"
   ]
  },
  {
   "cell_type": "code",
   "execution_count": 1,
   "metadata": {},
   "outputs": [],
   "source": [
    "#Imports\n",
    "import torch\n",
    "import numpy as np\n",
    "import torch.nn as nn\n",
    "import torch.optim as optim\n",
    "import torch.nn.functional as F\n",
    "import torchvision\n",
    "import matplotlib.pyplot as plt\n",
    "from torchvision import datasets, models, transforms\n",
    "from torch.utils.data import TensorDataset\n",
    "import os\n",
    "import random"
   ]
  },
  {
   "cell_type": "code",
   "execution_count": 2,
   "metadata": {},
   "outputs": [
    {
     "name": "stdout",
     "output_type": "stream",
     "text": [
      "Length of training set: 3485\n",
      "Length of val set: 1161\n",
      "Length of test set: 1163\n"
     ]
    }
   ],
   "source": [
    "#Master dataset\n",
    "master = torchvision.datasets.ImageFolder('data_color_shifted', transform = transforms.ToTensor())\n",
    "\n",
    "#split indexes\n",
    "train_size = int(0.6 * len(master))\n",
    "val_size = int(0.2 *len(master))\n",
    "test_size = len(master) - val_size - train_size\n",
    "\n",
    "train_set, val_set, test_set = torch.utils.data.random_split(master, [train_size, val_size, test_size])\n",
    "print (\"Length of training set: {}\".format(len(train_set)))\n",
    "print (\"Length of val set: {}\".format(len(val_set)))\n",
    "print (\"Length of test set: {}\".format(len(test_set)))"
   ]
  },
  {
   "cell_type": "code",
   "execution_count": 3,
   "metadata": {},
   "outputs": [],
   "source": [
    "def generate_CF_matrix(model, data_loader):\n",
    "    '''\n",
    "    Generate confusion matrix\n",
    "    \n",
    "    Model: The CNN Model\n",
    "    \n",
    "    data_loader: torch dataloader\n",
    "    '''\n",
    "    \n",
    "    classes = ['INCORRECT_MASK', 'MASK', 'NO_MASK']\n",
    "    CF_matrix = np.zeros((3, 4))\n",
    "    \n",
    "    for imgs, labels in data_loader:\n",
    "\n",
    "\n",
    "        #############################################\n",
    "        #To Enable GPU Usage\n",
    "        if use_cuda and torch.cuda.is_available():\n",
    "            imgs = imgs.cuda()\n",
    "            labels = labels.cuda()\n",
    "        #############################################\n",
    "\n",
    "\n",
    "        output = model(imgs)\n",
    "\n",
    "        #select index with maximum prediction score\n",
    "        pred = output.max(1, keepdim=True)[1]\n",
    "        for label, prediction in zip(labels, pred.view_as(labels)):\n",
    "            CF_matrix[label][prediction] += 1\n",
    "            \n",
    "    for i in range(3):\n",
    "        CF_matrix[i][3] = 100 * (sum(CF_matrix[i]) - CF_matrix[i][i]) / sum(CF_matrix[i])\n",
    "            \n",
    "            \n",
    "    s = \"\\t\\t\\t\\t\\tPrediction\\t\\t\\t\\t\\tError\\n\" +\\\n",
    "        \"\\t\\t\\t{}\\t\\t{}\\t\\t{}\\n\\n\".format(*classes) +\\\n",
    "        \"\\t{}\\t\\t{}\\t\\t{}\\t\\t{}\\t\\t\\t{:.4f}%\\n\\n\".format(classes[0], *CF_matrix[0]) +\\\n",
    "        \"Label\\t{}\\t\\t\\t{}\\t\\t{}\\t\\t{}\\t\\t\\t{:.4f}%\\n\\n\".format(classes[1], *CF_matrix[1]) +\\\n",
    "        \"\\t{}\\t\\t\\t{}\\t\\t{}\\t\\t{}\\t\\t\\t{:.4f}%\\n\\n\".format(classes[2], *CF_matrix[2])\n",
    "    \n",
    "        \n",
    "    return s"
   ]
  },
  {
   "cell_type": "code",
   "execution_count": 4,
   "metadata": {},
   "outputs": [],
   "source": [
    "class CNN_V3(nn.Module):\n",
    "    def __init__(self, num_classes=3):\n",
    "        super(CNN_V3, self).__init__()\n",
    "        self.name = \"CNN_V3\"\n",
    "        \n",
    "        self.conv1 = nn.Conv2d(in_channels=3, out_channels=64, kernel_size=10, stride=4, padding=3)\n",
    "        self.conv2 = nn.Conv2d(in_channels=64, out_channels=64, kernel_size=6, stride=1)\n",
    "        \n",
    "        self.drop = nn.Dropout2d(p=0.2)\n",
    "        \n",
    "        # 240x240x3 ==conv1=> 60x60x64 ==4x conv2=> 40x40x64\n",
    "        self.fc = nn.Linear(in_features=40*40*64, out_features=num_classes)\n",
    "\n",
    "    def forward(self, x):\n",
    "        # Convolution with large kernel + stride to prevent need for max pooling (maintains accuracy and speeds up training)\n",
    "        x = F.relu(self.conv1(x)) \n",
    "        \n",
    "        # 64 feature convolutional layers\n",
    "        x = F.relu(self.conv2(x)) \n",
    "        x = F.relu(self.conv2(x)) \n",
    "        x = F.relu(self.conv2(x)) \n",
    "        x = F.relu(self.conv2(x)) \n",
    "\n",
    "        # Dropout layer\n",
    "        x = F.dropout(self.drop(x), training=self.training)\n",
    "        \n",
    "        x = x.view(-1, 40*40*64)\n",
    "        x = self.fc(x)\n",
    "        \n",
    "        return x"
   ]
  },
  {
   "cell_type": "code",
   "execution_count": 5,
   "metadata": {},
   "outputs": [
    {
     "name": "stdout",
     "output_type": "stream",
     "text": [
      "\t\t\t\t\tPrediction\t\t\t\t\tError\n",
      "\t\t\tINCORRECT_MASK\t\tMASK\t\tNO_MASK\n",
      "\n",
      "\tINCORRECT_MASK\t\t377.0\t\t4.0\t\t7.0\t\t\t2.8351%\n",
      "\n",
      "Label\tMASK\t\t\t4.0\t\t377.0\t\t4.0\t\t\t2.0779%\n",
      "\n",
      "\tNO_MASK\t\t\t6.0\t\t2.0\t\t382.0\t\t\t2.0513%\n",
      "\n",
      "\n"
     ]
    }
   ],
   "source": [
    "use_cuda = True\n",
    "torch.manual_seed(2020)\n",
    "\n",
    "model_3 = CNN_V3()\n",
    "model_3.load_state_dict(torch.load(\"models/CNN_3_lr=0.0003\"))\n",
    "\n",
    "if use_cuda and torch.cuda.is_available():\n",
    "    model_3.cuda()\n",
    "    \n",
    "test_dataloader = torch.utils.data.DataLoader(test_set, batch_size=32, shuffle=True)\n",
    "test_CF_matrix = generate_CF_matrix(model_3, test_dataloader)\n",
    "print(test_CF_matrix)"
   ]
  },
  {
   "cell_type": "code",
   "execution_count": null,
   "metadata": {},
   "outputs": [],
   "source": []
  }
 ],
 "metadata": {
  "kernelspec": {
   "display_name": "Python 3",
   "language": "python",
   "name": "python3"
  },
  "language_info": {
   "codemirror_mode": {
    "name": "ipython",
    "version": 3
   },
   "file_extension": ".py",
   "mimetype": "text/x-python",
   "name": "python",
   "nbconvert_exporter": "python",
   "pygments_lexer": "ipython3",
   "version": "3.8.5"
  }
 },
 "nbformat": 4,
 "nbformat_minor": 4
}
